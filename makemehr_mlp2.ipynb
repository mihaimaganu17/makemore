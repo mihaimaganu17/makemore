{
 "cells": [
  {
   "cell_type": "code",
   "execution_count": 17,
   "id": "70214fb7-951a-414f-8464-606728ffea82",
   "metadata": {},
   "outputs": [],
   "source": [
    "import torch\n",
    "import torch.nn.functional as F\n",
    "import matplotlib.pyplot as plt # for making figures\n",
    "%matplotlib inline"
   ]
  },
  {
   "cell_type": "code",
   "execution_count": 18,
   "id": "6981c24f-b4a0-4811-b678-cbf5e0029ceb",
   "metadata": {},
   "outputs": [
    {
     "data": {
      "text/plain": [
       "['emma', 'olivia', 'ava', 'isabella', 'sophia', 'charlotte', 'mia', 'amelia']"
      ]
     },
     "execution_count": 18,
     "metadata": {},
     "output_type": "execute_result"
    }
   ],
   "source": [
    "# read in all the words\n",
    "words = open('names.txt', 'r').read().splitlines()\n",
    "words[:8]"
   ]
  },
  {
   "cell_type": "code",
   "execution_count": 19,
   "id": "9e99c29e-ed99-4b36-ac46-fddaf1660278",
   "metadata": {},
   "outputs": [
    {
     "data": {
      "text/plain": [
       "32033"
      ]
     },
     "execution_count": 19,
     "metadata": {},
     "output_type": "execute_result"
    }
   ],
   "source": [
    "len(words)"
   ]
  },
  {
   "cell_type": "code",
   "execution_count": 20,
   "id": "c778851a-94ec-4f0d-9671-b77ac1d4b589",
   "metadata": {},
   "outputs": [
    {
     "name": "stdout",
     "output_type": "stream",
     "text": [
      "{1: 'a', 2: 'b', 3: 'c', 4: 'd', 5: 'e', 6: 'f', 7: 'g', 8: 'h', 9: 'i', 10: 'j', 11: 'k', 12: 'l', 13: 'm', 14: 'n', 15: 'o', 16: 'p', 17: 'q', 18: 'r', 19: 's', 20: 't', 21: 'u', 22: 'v', 23: 'w', 24: 'x', 25: 'y', 26: 'z', 0: '.'}\n"
     ]
    }
   ],
   "source": [
    "# Build the vocabulary of characters and mappings to/from integers\n",
    "chars = sorted(list(set(''.join(words))))\n",
    "stoi = {s:i+1 for (i, s) in enumerate(chars) }\n",
    "stoi['.'] = 0\n",
    "itos = {i:s for (s, i) in stoi.items() }\n",
    "print(itos)"
   ]
  },
  {
   "cell_type": "code",
   "execution_count": 36,
   "id": "2395a1ca-da7b-4563-9fb1-4b801519bea2",
   "metadata": {},
   "outputs": [
    {
     "name": "stdout",
     "output_type": "stream",
     "text": [
      "torch.Size([182580, 3]) torch.Size([182580])\n",
      "torch.Size([22767, 3]) torch.Size([22767])\n",
      "torch.Size([22799, 3]) torch.Size([22799])\n"
     ]
    }
   ],
   "source": [
    "# Context length: how many characters do we take to predict the next one?\n",
    "block_size = 3\n",
    "\n",
    "# Build the dataset (with a function)\n",
    "def build_dataset(words):\n",
    "\n",
    "    # Input & Output(labels) tensors initialized as empty\n",
    "    X, Y = [], []\n",
    "    \n",
    "    for w in words:\n",
    "        #print(w)\n",
    "        # Start with a padded context, of zero context\n",
    "        # Essentially starting with the empty context with the given block size\n",
    "        context = [0] * block_size\n",
    "        # Iterate through each character in the word with the '.' representing the ending token\n",
    "        for ch in w + '.':\n",
    "            # Take the index of the current character\n",
    "            idx = stoi[ch]\n",
    "            # We store the current running context\n",
    "            X.append(context)\n",
    "            # For this current context, we store the label, in other words,\n",
    "            # The character that we want to predict as being next\n",
    "            Y.append(idx)\n",
    "            # Print everything\n",
    "            #print(''.join(itos[i] for i in context), '--->', itos[idx])\n",
    "            # Crop the first character of the context and append the new character to the cropped\n",
    "            context = context[1:] + [idx]\n",
    "    \n",
    "    # Convet input and output to tensors\n",
    "    X = torch.tensor(X)\n",
    "    Y = torch.tensor(Y)\n",
    "    print(X.shape, Y.shape)\n",
    "    return X, Y\n",
    "\n",
    "import random\n",
    "random.seed(42)\n",
    "random.shuffle(words)\n",
    "n1 = int(0.8*len(words))\n",
    "n2 = int(0.9*len(words))\n",
    "\n",
    "Xtr, Ytr = build_dataset(words[:n1])\n",
    "Xdev, Ydev = build_dataset(words[n1:n2])\n",
    "Xte, Yte = build_dataset(words[n2:])\n",
    "\n",
    "# Sizes of these differ, since we form the dataset based on context embeddings (3 letters each)\n",
    "# and not the words themselves"
   ]
  },
  {
   "cell_type": "code",
   "execution_count": 75,
   "id": "457d2d0c-faed-4c95-9130-6edc835d1d75",
   "metadata": {},
   "outputs": [
    {
     "name": "stdout",
     "output_type": "stream",
     "text": [
      "11897\n"
     ]
    }
   ],
   "source": [
    "# MLP revisited\n",
    "\n",
    "# The dimensionality of the character embedding vectors\n",
    "n_embd = 10\n",
    "# The number of neurons in the hidden layer\n",
    "n_hidden = 200\n",
    "# Number of items in vocabulary (letters + .)\n",
    "vocab_size = len(itos)\n",
    "\n",
    "# Give a fixed seed for reproducibility\n",
    "g = torch.Generator().manual_seed(2147483647)\n",
    "# Build the lookup table for context sequences, which stores the embeddings\n",
    "C = torch.randn((vocab_size, n_embd), generator=g)\n",
    "# Initialize weights and biases for the first and the second layer\n",
    "W1 = torch.randn((n_embd * block_size, n_hidden), generator=g) * 0.2\n",
    "b1 = torch.randn(n_hidden, generator=g) * 0.01\n",
    "W2 = torch.randn((n_hidden, vocab_size), generator=g) * 0.01\n",
    "# Initialize second biases as 0\n",
    "b2 = torch.randn(vocab_size, generator=g) * 0\n",
    "# Gather all parameters in a single list\n",
    "parameters = [C, W1, b1, W2, b2]\n",
    "\n",
    "# Compute number of parameters\n",
    "print(sum(p.nelement() for p in parameters))\n",
    "for p in parameters:\n",
    "    p.requires_grad = True"
   ]
  },
  {
   "cell_type": "code",
   "execution_count": 83,
   "id": "bca0a433-f6c2-409a-93cf-94d920bdcfc7",
   "metadata": {},
   "outputs": [
    {
     "name": "stdout",
     "output_type": "stream",
     "text": [
      "tensor(0.0093) tensor(0.9996)\n",
      "tensor(0.0022) tensor(0.9860)\n"
     ]
    },
    {
     "data": {
      "image/png": "[encoded data removed]",
      "text/plain": [
       "<Figure size 2000x500 with 2 Axes>"
      ]
     },
     "metadata": {},
     "output_type": "display_data"
    }
   ],
   "source": [
    "x = torch.randn(1000, 10)\n",
    "# Dividing by the square root of the input fan size (10)\n",
    "w = torch.randn(10, 200) / 10 ** 0.5\n",
    "y = x @ w\n",
    "print(x.mean(), x.std())\n",
    "print(y.mean(), y.std())\n",
    "plt.figure(figsize=(20,5))\n",
    "plt.subplot(121)\n",
    "plt.hist(x.view(-1).tolist(), 50, density=True);\n",
    "plt.subplot(122)\n",
    "plt.hist(y.view(-1).tolist(), 50, density=True);"
   ]
  },
  {
   "cell_type": "code",
   "execution_count": 76,
   "id": "49093ef8-10c6-4854-8da2-2b3815963fa7",
   "metadata": {},
   "outputs": [
    {
     "name": "stdout",
     "output_type": "stream",
     "text": [
      "      0/ 200000: 3.3026\n",
      "  10000/ 200000: 2.3652\n",
      "  20000/ 200000: 2.1524\n",
      "  30000/ 200000: 2.6354\n",
      "  40000/ 200000: 2.1904\n",
      "  50000/ 200000: 2.2418\n",
      "  60000/ 200000: 2.0820\n",
      "  70000/ 200000: 1.9691\n",
      "  80000/ 200000: 1.9906\n",
      "  90000/ 200000: 2.2204\n",
      " 100000/ 200000: 2.1536\n",
      " 110000/ 200000: 1.9418\n",
      " 120000/ 200000: 2.1180\n",
      " 130000/ 200000: 2.0590\n",
      " 140000/ 200000: 1.9726\n",
      " 150000/ 200000: 1.8978\n",
      " 160000/ 200000: 1.8839\n",
      " 170000/ 200000: 2.1710\n",
      " 180000/ 200000: 1.8882\n",
      " 190000/ 200000: 2.1592\n"
     ]
    }
   ],
   "source": [
    "# Number of steps to optimize the model\n",
    "max_steps = 200000\n",
    "batch_size = 32\n",
    "lossi = []\n",
    "\n",
    "for i in range(max_steps):\n",
    "    # Minibatch construct\n",
    "    idx = torch.randint(0, Xtr.shape[0], (batch_size,))\n",
    "    # Batch X,Y\n",
    "    Xb, Yb = Xtr[idx], Ytr[idx]\n",
    "    \n",
    "    # Forward pass\n",
    "    # Create the embeddings encodings for all the inputs\n",
    "    emb = C[Xb] # shape [32, 3, 2]\n",
    "    # First layer pre-activation\n",
    "    hpreact = emb.view(-1, n_embd * block_size) @ W1 + b1\n",
    "    # Apply first layer tanh activation function\n",
    "    # (vanishing gradient)\n",
    "    h = torch.tanh(hpreact) # 32, 100\n",
    "    # Apply second layer\n",
    "    logits = h @ W2 + b2\n",
    "    # Count, probs and loss lines above are equal to\n",
    "    loss = F.cross_entropy(logits, Yb)\n",
    "    \n",
    "    #print(loss.item())\n",
    "    # Backward pass\n",
    "    # Set the gradients to 0\n",
    "    for p in parameters:\n",
    "        p.grad = None\n",
    "    loss.backward()\n",
    "    \n",
    "    # Update\n",
    "    # Dynamically adjust the learning rate\n",
    "    #lr = lrs[i]\n",
    "    lr = 0.1 if i < (max_steps / 2) else 0.01\n",
    "    for p in parameters:\n",
    "        p.data += -lr * p.grad\n",
    "\n",
    "    # track stats\n",
    "    if i % 10000 == 0:\n",
    "        print(f'{i:7d}/{max_steps:7d}: {loss.item():.4f}')\n",
    "    lossi.append(loss.log10().item())\n"
   ]
  },
  {
   "cell_type": "code",
   "execution_count": null,
   "id": "03b9a626-7531-4e11-9e0d-e408e2d44e8d",
   "metadata": {},
   "outputs": [],
   "source": []
  },
  {
   "cell_type": "code",
   "execution_count": 71,
   "id": "cec365fe-9be9-404d-bee4-b028e35bbea6",
   "metadata": {},
   "outputs": [
    {
     "data": {
      "text/plain": [
       "<matplotlib.image.AxesImage at 0x13e13b1c0>"
      ]
     },
     "execution_count": 71,
     "metadata": {},
     "output_type": "execute_result"
    },
    {
     "data": {
      "image/png": "[encoded data removed]",
      "text/plain": [
       "<Figure size 2000x1000 with 1 Axes>"
      ]
     },
     "metadata": {},
     "output_type": "display_data"
    }
   ],
   "source": [
    "plt.figure(figsize=(20, 10))\n",
    "plt.imshow(h.abs() > 0.99,cmap='gray', interpolation='nearest')"
   ]
  },
  {
   "cell_type": "code",
   "execution_count": 72,
   "id": "6176e1b4-4194-43d9-9871-29517bf49c43",
   "metadata": {},
   "outputs": [
    {
     "data": {
      "image/png": "[encoded data removed]",
      "text/plain": [
       "<Figure size 640x480 with 1 Axes>"
      ]
     },
     "metadata": {},
     "output_type": "display_data"
    }
   ],
   "source": [
    "plt.hist(h.view(0-1).tolist(), 50);"
   ]
  },
  {
   "cell_type": "code",
   "execution_count": 73,
   "id": "8a420a27-01c1-4319-b16c-31f5f403d8d5",
   "metadata": {},
   "outputs": [
    {
     "data": {
      "image/png": "[encoded data removed]",
      "text/plain": [
       "<Figure size 640x480 with 1 Axes>"
      ]
     },
     "metadata": {},
     "output_type": "display_data"
    }
   ],
   "source": [
    "plt.hist(hpreact.view(0-1).tolist(), 50);"
   ]
  },
  {
   "cell_type": "code",
   "execution_count": 35,
   "id": "2b983cde-250c-4e0a-9030-eb5afc379ce1",
   "metadata": {},
   "outputs": [
    {
     "data": {
      "text/plain": [
       "(tensor([9.9999e-01, 4.4315e-08, 6.1948e-15, 5.9301e-06]), tensor(32.7151))"
      ]
     },
     "execution_count": 35,
     "metadata": {},
     "output_type": "execute_result"
    }
   ],
   "source": [
    "# Initially, all characters should have the same probability for generation\n",
    "# since the model is not trained and it should treat all of the equally\n",
    "# In this case, the loss we are looking for, should be drawn from 1/27.0\n",
    "# the uniform probability for our vocabulary size\n",
    "# As loss, we will use the negative log likelihood\n",
    "-torch.tensor(1/27.0).log()\n",
    "\n",
    "# Basically what happens at initialization is that the network is\n",
    "# Very confidently wrong\n",
    "\n",
    "# 4-dimensional example of the issue\n",
    "#logits = torch.tensor([0.0, 0.0, 0.0, 0.0])\n",
    "logits = torch.randn(4) * 10\n",
    "probs = torch.softmax(logits, dim=0)\n",
    "loss = -probs[2].log()\n",
    "probs, loss"
   ]
  },
  {
   "cell_type": "code",
   "execution_count": 51,
   "id": "0c77248f-563c-44d5-86ff-73d223341771",
   "metadata": {},
   "outputs": [
    {
     "data": {
      "text/plain": [
       "[<matplotlib.lines.Line2D at 0x12fa78790>]"
      ]
     },
     "execution_count": 51,
     "metadata": {},
     "output_type": "execute_result"
    },
    {
     "data": {
      "image/png": "[encoded data removed]",
      "text/plain": [
       "<Figure size 640x480 with 1 Axes>"
      ]
     },
     "metadata": {},
     "output_type": "display_data"
    }
   ],
   "source": [
    "plt.plot(lossi)"
   ]
  },
  {
   "cell_type": "code",
   "execution_count": 77,
   "id": "85033b4b-2c4f-45d8-80bc-4879c499a4bc",
   "metadata": {},
   "outputs": [
    {
     "name": "stdout",
     "output_type": "stream",
     "text": [
      "train 2.035724639892578\n",
      "val 2.09740948677063\n"
     ]
    }
   ],
   "source": [
    "# Dsable gradient tracking\n",
    "@torch.no_grad()\n",
    "def split_loss(split):\n",
    "    x, y = {\n",
    "        'train': (Xtr, Ytr),\n",
    "        'val': (Xdev, Ydev),\n",
    "        'test': (Xte, Yte),\n",
    "    }[split]\n",
    "    # Evaluate the loss for the entire dataset after a minibatch multistep train\n",
    "    emb = C[x] # shape (N, block_size, n_embd)\n",
    "    h = torch.tanh(emb.view(emb.shape[0], -1) @ W1 + b1) # becomes shape (N, block_size * n_embd)\n",
    "    logits = h @ W2 + b2 # (N, vocab_size)\n",
    "    loss = F.cross_entropy(logits, y)\n",
    "    print(split, loss.item())\n",
    "\n",
    "split_loss('train')\n",
    "split_loss('val')"
   ]
  },
  {
   "cell_type": "code",
   "execution_count": 78,
   "id": "049202e7-1bec-4c64-acf9-b3e1d1ae3ff3",
   "metadata": {},
   "outputs": [
    {
     "name": "stdout",
     "output_type": "stream",
     "text": [
      "carmah.\n",
      "ambrileigh.\n",
      "mili.\n",
      "taty.\n",
      "salaysie.\n",
      "rahnen.\n",
      "deliah.\n",
      "jareen.\n",
      "ner.\n",
      "kiah.\n",
      "maiir.\n",
      "kaleigh.\n",
      "ham.\n",
      "poc.\n",
      "desian.\n",
      "sulio.\n",
      "alian.\n",
      "quinterra.\n",
      "jaryn.\n",
      "kai.\n"
     ]
    }
   ],
   "source": [
    "# Sample from the model\n",
    "g = torch.Generator().manual_seed(2147483647 + 10)\n",
    "\n",
    "for _ in range(20):\n",
    "    out = []\n",
    "    context = [0] * block_size # initialize with all ...\n",
    "    while True:\n",
    "        # Forward pass the neural net\n",
    "        emb = C[torch.tensor([context])] # (1, block_size, n_embd)\n",
    "        h = torch.tanh(emb.view(1, -1) @ W1 + b1)\n",
    "        logits = h @ W2 + b2\n",
    "        probs = F.softmax(logits, dim=1)\n",
    "        # Sample from the distribution\n",
    "        idx = torch.multinomial(probs, num_samples=1, generator=g).item()\n",
    "        # Shift the context window and track the samples\n",
    "        context = context[1:] + [idx]\n",
    "        out.append(idx)\n",
    "        if idx == 0:\n",
    "            break\n",
    "    # decode and print the generated word\n",
    "    print(\"\".join([itos[i] for i in out]))"
   ]
  },
  {
   "cell_type": "code",
   "execution_count": null,
   "id": "780c1b58-9175-4c76-b43a-433ef7d65c4f",
   "metadata": {},
   "outputs": [],
   "source": []
  }
 ],
 "metadata": {
  "kernelspec": {
   "display_name": "Python 3 (ipykernel)",
   "language": "python",
   "name": "python3"
  },
  "language_info": {
   "codemirror_mode": {
    "name": "ipython",
    "version": 3
   },
   "file_extension": ".py",
   "mimetype": "text/x-python",
   "name": "python",
   "nbconvert_exporter": "python",
   "pygments_lexer": "ipython3",
   "version": "3.9.6"
  }
 },
 "nbformat": 4,
 "nbformat_minor": 5
}
