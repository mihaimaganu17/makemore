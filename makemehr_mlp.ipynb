{
 "cells": [
  {
   "cell_type": "code",
   "execution_count": 1,
   "id": "89192b4d-b39f-4ebe-9135-fe1874caf903",
   "metadata": {},
   "outputs": [],
   "source": [
    "# Out of distribution -> Model is in production and tries to predict\n",
    "# something it has never seen before"
   ]
  },
  {
   "cell_type": "code",
   "execution_count": 3,
   "id": "2de952f2-8cab-4096-aa0c-cc7bdcb5c7ce",
   "metadata": {},
   "outputs": [],
   "source": [
    "# Transfer knowledge through the embedding when we embed similar words and\n",
    "# they end up in the roughly the same space"
   ]
  },
  {
   "cell_type": "code",
   "execution_count": 4,
   "id": "94f98462-efa9-4338-a38e-5aca6e1abe9c",
   "metadata": {},
   "outputs": [],
   "source": [
    "# Hyperparameter -> A configurable designed parameter chosen by the person\n",
    "# who designs the neural network"
   ]
  },
  {
   "cell_type": "code",
   "execution_count": 5,
   "id": "488d9d20-3538-4e7b-bad2-b803fa83e543",
   "metadata": {},
   "outputs": [],
   "source": [
    "import torch\n",
    "import torch.nn.functional as F\n",
    "import matplotlib.pyplot as plt # for making figures\n",
    "%matplotlib inline"
   ]
  },
  {
   "cell_type": "code",
   "execution_count": 6,
   "id": "80fe9f47-5700-4b20-936a-acc9f302e5ec",
   "metadata": {},
   "outputs": [
    {
     "data": {
      "text/plain": [
       "['emma', 'olivia', 'ava', 'isabella', 'sophia', 'charlotte', 'mia', 'amelia']"
      ]
     },
     "execution_count": 6,
     "metadata": {},
     "output_type": "execute_result"
    }
   ],
   "source": [
    "# read in all the words\n",
    "words = open('names.txt', 'r').read().splitlines()\n",
    "words[:8]"
   ]
  },
  {
   "cell_type": "code",
   "execution_count": 7,
   "id": "23c36937-f994-44a9-a3ef-8f189c79ad40",
   "metadata": {},
   "outputs": [
    {
     "data": {
      "text/plain": [
       "32033"
      ]
     },
     "execution_count": 7,
     "metadata": {},
     "output_type": "execute_result"
    }
   ],
   "source": [
    "len(words)"
   ]
  },
  {
   "cell_type": "code",
   "execution_count": 8,
   "id": "57530425-be0d-4e06-a5b3-b73680cd1b53",
   "metadata": {},
   "outputs": [
    {
     "name": "stdout",
     "output_type": "stream",
     "text": [
      "{1: 'a', 2: 'b', 3: 'c', 4: 'd', 5: 'e', 6: 'f', 7: 'g', 8: 'h', 9: 'i', 10: 'j', 11: 'k', 12: 'l', 13: 'm', 14: 'n', 15: 'o', 16: 'p', 17: 'q', 18: 'r', 19: 's', 20: 't', 21: 'u', 22: 'v', 23: 'w', 24: 'x', 25: 'y', 26: 'z', 0: '.'}\n"
     ]
    }
   ],
   "source": [
    "# Build the vocabulary of characters and mappings to/from integers\n",
    "chars = sorted(list(set(''.join(words))))\n",
    "stoi = {s:i+1 for (i, s) in enumerate(chars) }\n",
    "stoi['.'] = 0\n",
    "itos = {i:s for (s, i) in stoi.items() }\n",
    "print(itos)"
   ]
  },
  {
   "cell_type": "code",
   "execution_count": 156,
   "id": "c7bebf15-fc84-4203-8443-b264d2aafa0b",
   "metadata": {},
   "outputs": [],
   "source": [
    "# Build the dataset\n",
    "\n",
    "# Context length: how many characters do we take to predict the next one?\n",
    "block_size = 3\n",
    "# Input & Output(labels) tensors initialized as empty\n",
    "X, Y = [], []\n",
    "\n",
    "for w in words:\n",
    "    #print(w)\n",
    "    # Start with a padded context, of zero context\n",
    "    # Essentially starting with the empty context with the given block size\n",
    "    context = [0] * block_size\n",
    "    # Iterate through each character in the word with the '.' representing the ending token\n",
    "    for ch in w + '.':\n",
    "        # Take the index of the current character\n",
    "        idx = stoi[ch]\n",
    "        # We store the current running context\n",
    "        X.append(context)\n",
    "        # For this current context, we store the label, in other words,\n",
    "        # The character that we want to predict as being next\n",
    "        Y.append(idx)\n",
    "        # Print everything\n",
    "        #print(''.join(itos[i] for i in context), '--->', itos[idx])\n",
    "        # Crop the first character of the context and append the new character to the cropped\n",
    "        context = context[1:] + [idx]\n",
    "\n",
    "# Convet input and output to tensors\n",
    "X = torch.tensor(X)\n",
    "Y = torch.tensor(Y)"
   ]
  },
  {
   "cell_type": "code",
   "execution_count": 271,
   "id": "7fbd56c5-0f5a-44cb-89da-267f46cfb568",
   "metadata": {},
   "outputs": [
    {
     "name": "stdout",
     "output_type": "stream",
     "text": [
      "torch.Size([182400, 3]) torch.Size([182400])\n",
      "torch.Size([22962, 3]) torch.Size([22962])\n",
      "torch.Size([22784, 3]) torch.Size([22784])\n"
     ]
    }
   ],
   "source": [
    "# Build the dataset (with a function)\n",
    "def build_dataset(words):\n",
    "    # Context length: how many characters do we take to predict the next one?\n",
    "    block_size = 3\n",
    "    # Input & Output(labels) tensors initialized as empty\n",
    "    X, Y = [], []\n",
    "    \n",
    "    for w in words:\n",
    "        #print(w)\n",
    "        # Start with a padded context, of zero context\n",
    "        # Essentially starting with the empty context with the given block size\n",
    "        context = [0] * block_size\n",
    "        # Iterate through each character in the word with the '.' representing the ending token\n",
    "        for ch in w + '.':\n",
    "            # Take the index of the current character\n",
    "            idx = stoi[ch]\n",
    "            # We store the current running context\n",
    "            X.append(context)\n",
    "            # For this current context, we store the label, in other words,\n",
    "            # The character that we want to predict as being next\n",
    "            Y.append(idx)\n",
    "            # Print everything\n",
    "            #print(''.join(itos[i] for i in context), '--->', itos[idx])\n",
    "            # Crop the first character of the context and append the new character to the cropped\n",
    "            context = context[1:] + [idx]\n",
    "    \n",
    "    # Convet input and output to tensors\n",
    "    X = torch.tensor(X)\n",
    "    Y = torch.tensor(Y)\n",
    "    print(X.shape, Y.shape)\n",
    "    return X, Y\n",
    "\n",
    "import random\n",
    "random.seed(42)\n",
    "random.shuffle(words)\n",
    "n1 = int(0.8*len(words))\n",
    "n2 = int(0.9*len(words))\n",
    "\n",
    "Xtr, Ytr = build_dataset(words[:n1])\n",
    "Xdev, Ydev = build_dataset(words[n1:n2])\n",
    "Xte, Yte = build_dataset(words[n2:])\n",
    "\n",
    "# Sizes of these differ, since we form the dataset based on context embeddings (3 letters each)\n",
    "# and not the words themselves"
   ]
  },
  {
   "cell_type": "code",
   "execution_count": 157,
   "id": "6ff010c7-651d-4c8d-8e75-e14ec955c8c9",
   "metadata": {},
   "outputs": [
    {
     "data": {
      "text/plain": [
       "(torch.Size([228146, 3]), torch.int64, torch.Size([228146]), torch.int64)"
      ]
     },
     "execution_count": 157,
     "metadata": {},
     "output_type": "execute_result"
    }
   ],
   "source": [
    "X.shape, X.dtype, Y.shape, Y.dtype"
   ]
  },
  {
   "cell_type": "code",
   "execution_count": 17,
   "id": "98d61a8f-6269-476a-b7d9-5f27927a0b44",
   "metadata": {},
   "outputs": [
    {
     "data": {
      "text/plain": [
       "tensor([[ 0,  0,  0],\n",
       "        [ 0,  0,  5],\n",
       "        [ 0,  5, 13],\n",
       "        [ 5, 13, 13],\n",
       "        [13, 13,  1],\n",
       "        [ 0,  0,  0],\n",
       "        [ 0,  0, 15],\n",
       "        [ 0, 15, 12],\n",
       "        [15, 12,  9],\n",
       "        [12,  9, 22],\n",
       "        [ 9, 22,  9],\n",
       "        [22,  9,  1],\n",
       "        [ 0,  0,  0],\n",
       "        [ 0,  0,  1],\n",
       "        [ 0,  1, 22],\n",
       "        [ 1, 22,  1],\n",
       "        [ 0,  0,  0],\n",
       "        [ 0,  0,  9],\n",
       "        [ 0,  9, 19],\n",
       "        [ 9, 19,  1],\n",
       "        [19,  1,  2],\n",
       "        [ 1,  2,  5],\n",
       "        [ 2,  5, 12],\n",
       "        [ 5, 12, 12],\n",
       "        [12, 12,  1],\n",
       "        [ 0,  0,  0],\n",
       "        [ 0,  0, 19],\n",
       "        [ 0, 19, 15],\n",
       "        [19, 15, 16],\n",
       "        [15, 16,  8],\n",
       "        [16,  8,  9],\n",
       "        [ 8,  9,  1]])"
      ]
     },
     "execution_count": 17,
     "metadata": {},
     "output_type": "execute_result"
    }
   ],
   "source": [
    "X"
   ]
  },
  {
   "cell_type": "code",
   "execution_count": 18,
   "id": "eaeb0923-8f5e-423a-ac76-0500b551bbc8",
   "metadata": {},
   "outputs": [
    {
     "data": {
      "text/plain": [
       "tensor([ 5, 13, 13,  1,  0, 15, 12,  9, 22,  9,  1,  0,  1, 22,  1,  0,  9, 19,\n",
       "         1,  2,  5, 12, 12,  1,  0, 19, 15, 16,  8,  9,  1,  0])"
      ]
     },
     "execution_count": 18,
     "metadata": {},
     "output_type": "execute_result"
    }
   ],
   "source": [
    "Y"
   ]
  },
  {
   "cell_type": "code",
   "execution_count": 22,
   "id": "c77280a3-db7d-4200-9d10-ae703ec7742f",
   "metadata": {},
   "outputs": [],
   "source": [
    "# Build a lookup table that will store 'embedding_size' of representation\n",
    "# features for each of the 27 characters.\n",
    "# In other words, each of the 27 characters will have an 'embedding_size' - dimensional\n",
    "# embedding\n",
    "embedding_size = 2\n",
    "C = torch.randn([27, embedding_size])"
   ]
  },
  {
   "cell_type": "code",
   "execution_count": 30,
   "id": "d0d2e17f-b091-46ed-a23b-cd122462dcbf",
   "metadata": {},
   "outputs": [
    {
     "data": {
      "text/plain": [
       "tensor([ 2.0740, -0.5372])"
      ]
     },
     "execution_count": 30,
     "metadata": {},
     "output_type": "execute_result"
    }
   ],
   "source": [
    "C[5]"
   ]
  },
  {
   "cell_type": "code",
   "execution_count": 29,
   "id": "31b3fcdb-2f56-40f2-b4d7-c45639c6a27a",
   "metadata": {},
   "outputs": [
    {
     "data": {
      "text/plain": [
       "tensor([ 2.0740, -0.5372])"
      ]
     },
     "execution_count": 29,
     "metadata": {},
     "output_type": "execute_result"
    }
   ],
   "source": [
    "# Going forward, we will just index into the lookup table C, since it\n",
    "# is faster than matrix multiplication\n",
    "F.one_hot(torch.tensor(5), num_classes=27).to(torch.float32) @ C"
   ]
  },
  {
   "cell_type": "code",
   "execution_count": 31,
   "id": "46f4eb16-c05e-491f-a627-69b263ceac16",
   "metadata": {},
   "outputs": [
    {
     "data": {
      "text/plain": [
       "torch.Size([32, 3, 2])"
      ]
     },
     "execution_count": 31,
     "metadata": {},
     "output_type": "execute_result"
    }
   ],
   "source": [
    "C[X].shape"
   ]
  },
  {
   "cell_type": "code",
   "execution_count": 32,
   "id": "f0294f7d-d33f-45e8-bab1-8d180fc9e9c7",
   "metadata": {},
   "outputs": [
    {
     "data": {
      "text/plain": [
       "tensor(1)"
      ]
     },
     "execution_count": 32,
     "metadata": {},
     "output_type": "execute_result"
    }
   ],
   "source": [
    "X[13,2]"
   ]
  },
  {
   "cell_type": "code",
   "execution_count": 33,
   "id": "24c428ef-808f-49b6-bc26-d5e3da984bfd",
   "metadata": {},
   "outputs": [
    {
     "data": {
      "text/plain": [
       "tensor([0.3935, 1.8302])"
      ]
     },
     "execution_count": 33,
     "metadata": {},
     "output_type": "execute_result"
    }
   ],
   "source": [
    "C[X][13,2]"
   ]
  },
  {
   "cell_type": "code",
   "execution_count": 34,
   "id": "718939a3-68ff-4ce6-a5d5-120c3b79aaae",
   "metadata": {},
   "outputs": [
    {
     "data": {
      "text/plain": [
       "tensor([0.3935, 1.8302])"
      ]
     },
     "execution_count": 34,
     "metadata": {},
     "output_type": "execute_result"
    }
   ],
   "source": [
    "C[1]"
   ]
  },
  {
   "cell_type": "code",
   "execution_count": 35,
   "id": "e2adf942-27b9-4515-8078-9692aab30f92",
   "metadata": {},
   "outputs": [
    {
     "data": {
      "text/plain": [
       "torch.Size([32, 3, 2])"
      ]
     },
     "execution_count": 35,
     "metadata": {},
     "output_type": "execute_result"
    }
   ],
   "source": [
    "emb = C[X]\n",
    "emb.shape"
   ]
  },
  {
   "cell_type": "code",
   "execution_count": 37,
   "id": "01c448b2-7243-4560-85ef-a845f0772653",
   "metadata": {},
   "outputs": [],
   "source": [
    "# Initialize the first layer of weights\n",
    "# Inputs to this layer are 3 (context size) * 2 (embedding size)\n",
    "# Outputs are up to us\n",
    "W1 = torch.randn((6, 100))\n",
    "# Biases\n",
    "b1 = torch.randn(100)"
   ]
  },
  {
   "cell_type": "code",
   "execution_count": 68,
   "id": "b0888519-674f-4851-ac99-75aa71ffd1ab",
   "metadata": {},
   "outputs": [
    {
     "data": {
      "text/plain": [
       "tensor([[ 1.2594, -0.7334,  1.2594, -0.7334,  1.2594, -0.7334],\n",
       "        [ 1.2594, -0.7334,  1.2594, -0.7334,  2.0740, -0.5372],\n",
       "        [ 1.2594, -0.7334,  2.0740, -0.5372,  0.8281,  0.8805],\n",
       "        [ 2.0740, -0.5372,  0.8281,  0.8805,  0.8281,  0.8805],\n",
       "        [ 0.8281,  0.8805,  0.8281,  0.8805,  0.3935,  1.8302],\n",
       "        [ 1.2594, -0.7334,  1.2594, -0.7334,  1.2594, -0.7334],\n",
       "        [ 1.2594, -0.7334,  1.2594, -0.7334,  0.6324,  0.3191],\n",
       "        [ 1.2594, -0.7334,  0.6324,  0.3191, -1.2060,  0.4246],\n",
       "        [ 0.6324,  0.3191, -1.2060,  0.4246,  0.0971, -0.2500],\n",
       "        [-1.2060,  0.4246,  0.0971, -0.2500, -1.0611, -1.2847],\n",
       "        [ 0.0971, -0.2500, -1.0611, -1.2847,  0.0971, -0.2500],\n",
       "        [-1.0611, -1.2847,  0.0971, -0.2500,  0.3935,  1.8302],\n",
       "        [ 1.2594, -0.7334,  1.2594, -0.7334,  1.2594, -0.7334],\n",
       "        [ 1.2594, -0.7334,  1.2594, -0.7334,  0.3935,  1.8302],\n",
       "        [ 1.2594, -0.7334,  0.3935,  1.8302, -1.0611, -1.2847],\n",
       "        [ 0.3935,  1.8302, -1.0611, -1.2847,  0.3935,  1.8302],\n",
       "        [ 1.2594, -0.7334,  1.2594, -0.7334,  1.2594, -0.7334],\n",
       "        [ 1.2594, -0.7334,  1.2594, -0.7334,  0.0971, -0.2500],\n",
       "        [ 1.2594, -0.7334,  0.0971, -0.2500, -0.3787, -0.6556],\n",
       "        [ 0.0971, -0.2500, -0.3787, -0.6556,  0.3935,  1.8302],\n",
       "        [-0.3787, -0.6556,  0.3935,  1.8302,  0.4180, -0.4987],\n",
       "        [ 0.3935,  1.8302,  0.4180, -0.4987,  2.0740, -0.5372],\n",
       "        [ 0.4180, -0.4987,  2.0740, -0.5372, -1.2060,  0.4246],\n",
       "        [ 2.0740, -0.5372, -1.2060,  0.4246, -1.2060,  0.4246],\n",
       "        [-1.2060,  0.4246, -1.2060,  0.4246,  0.3935,  1.8302],\n",
       "        [ 1.2594, -0.7334,  1.2594, -0.7334,  1.2594, -0.7334],\n",
       "        [ 1.2594, -0.7334,  1.2594, -0.7334, -0.3787, -0.6556],\n",
       "        [ 1.2594, -0.7334, -0.3787, -0.6556,  0.6324,  0.3191],\n",
       "        [-0.3787, -0.6556,  0.6324,  0.3191,  0.6563,  1.2173],\n",
       "        [ 0.6324,  0.3191,  0.6563,  1.2173,  0.4946, -0.1788],\n",
       "        [ 0.6563,  1.2173,  0.4946, -0.1788,  0.0971, -0.2500],\n",
       "        [ 0.4946, -0.1788,  0.0971, -0.2500,  0.3935,  1.8302]])"
      ]
     },
     "execution_count": 68,
     "metadata": {},
     "output_type": "execute_result"
    }
   ],
   "source": [
    "# Concatenate the first 3 context embeddings\n",
    "# Concatenation is much less efficient since it creates new memory\n",
    "torch.cat((emb[:, 0, :], emb[:, 1, :], emb[:, 2, :]), 1)"
   ]
  },
  {
   "cell_type": "code",
   "execution_count": 48,
   "id": "5b1b244b-05c6-4430-9809-36f48bf9e842",
   "metadata": {},
   "outputs": [
    {
     "data": {
      "text/plain": [
       "tensor([[ 1.2594, -0.7334,  1.2594, -0.7334,  1.2594, -0.7334],\n",
       "        [ 1.2594, -0.7334,  1.2594, -0.7334,  2.0740, -0.5372],\n",
       "        [ 1.2594, -0.7334,  2.0740, -0.5372,  0.8281,  0.8805],\n",
       "        [ 2.0740, -0.5372,  0.8281,  0.8805,  0.8281,  0.8805],\n",
       "        [ 0.8281,  0.8805,  0.8281,  0.8805,  0.3935,  1.8302],\n",
       "        [ 1.2594, -0.7334,  1.2594, -0.7334,  1.2594, -0.7334],\n",
       "        [ 1.2594, -0.7334,  1.2594, -0.7334,  0.6324,  0.3191],\n",
       "        [ 1.2594, -0.7334,  0.6324,  0.3191, -1.2060,  0.4246],\n",
       "        [ 0.6324,  0.3191, -1.2060,  0.4246,  0.0971, -0.2500],\n",
       "        [-1.2060,  0.4246,  0.0971, -0.2500, -1.0611, -1.2847],\n",
       "        [ 0.0971, -0.2500, -1.0611, -1.2847,  0.0971, -0.2500],\n",
       "        [-1.0611, -1.2847,  0.0971, -0.2500,  0.3935,  1.8302],\n",
       "        [ 1.2594, -0.7334,  1.2594, -0.7334,  1.2594, -0.7334],\n",
       "        [ 1.2594, -0.7334,  1.2594, -0.7334,  0.3935,  1.8302],\n",
       "        [ 1.2594, -0.7334,  0.3935,  1.8302, -1.0611, -1.2847],\n",
       "        [ 0.3935,  1.8302, -1.0611, -1.2847,  0.3935,  1.8302],\n",
       "        [ 1.2594, -0.7334,  1.2594, -0.7334,  1.2594, -0.7334],\n",
       "        [ 1.2594, -0.7334,  1.2594, -0.7334,  0.0971, -0.2500],\n",
       "        [ 1.2594, -0.7334,  0.0971, -0.2500, -0.3787, -0.6556],\n",
       "        [ 0.0971, -0.2500, -0.3787, -0.6556,  0.3935,  1.8302],\n",
       "        [-0.3787, -0.6556,  0.3935,  1.8302,  0.4180, -0.4987],\n",
       "        [ 0.3935,  1.8302,  0.4180, -0.4987,  2.0740, -0.5372],\n",
       "        [ 0.4180, -0.4987,  2.0740, -0.5372, -1.2060,  0.4246],\n",
       "        [ 2.0740, -0.5372, -1.2060,  0.4246, -1.2060,  0.4246],\n",
       "        [-1.2060,  0.4246, -1.2060,  0.4246,  0.3935,  1.8302],\n",
       "        [ 1.2594, -0.7334,  1.2594, -0.7334,  1.2594, -0.7334],\n",
       "        [ 1.2594, -0.7334,  1.2594, -0.7334, -0.3787, -0.6556],\n",
       "        [ 1.2594, -0.7334, -0.3787, -0.6556,  0.6324,  0.3191],\n",
       "        [-0.3787, -0.6556,  0.6324,  0.3191,  0.6563,  1.2173],\n",
       "        [ 0.6324,  0.3191,  0.6563,  1.2173,  0.4946, -0.1788],\n",
       "        [ 0.6563,  1.2173,  0.4946, -0.1788,  0.0971, -0.2500],\n",
       "        [ 0.4946, -0.1788,  0.0971, -0.2500,  0.3935,  1.8302]])"
      ]
     },
     "execution_count": 48,
     "metadata": {},
     "output_type": "execute_result"
    }
   ],
   "source": [
    "# Remove a dimension\n",
    "torch.cat(torch.unbind(emb, 1), 1)"
   ]
  },
  {
   "cell_type": "code",
   "execution_count": 49,
   "id": "844a7a43-1bd8-414e-a6ae-b1b7a25db31f",
   "metadata": {},
   "outputs": [],
   "source": [
    "a = torch.arange(18)"
   ]
  },
  {
   "cell_type": "code",
   "execution_count": 50,
   "id": "a40acfc0-443c-4059-929e-c792a3e6f7c3",
   "metadata": {},
   "outputs": [
    {
     "data": {
      "text/plain": [
       "torch.Size([18])"
      ]
     },
     "execution_count": 50,
     "metadata": {},
     "output_type": "execute_result"
    }
   ],
   "source": [
    "a.shape"
   ]
  },
  {
   "cell_type": "code",
   "execution_count": 51,
   "id": "3e0d6bfe-594e-41f8-aeb1-ffd95a7d48a1",
   "metadata": {},
   "outputs": [
    {
     "data": {
      "text/plain": [
       "tensor([[[ 0,  1],\n",
       "         [ 2,  3],\n",
       "         [ 4,  5]],\n",
       "\n",
       "        [[ 6,  7],\n",
       "         [ 8,  9],\n",
       "         [10, 11]],\n",
       "\n",
       "        [[12, 13],\n",
       "         [14, 15],\n",
       "         [16, 17]]])"
      ]
     },
     "execution_count": 51,
     "metadata": {},
     "output_type": "execute_result"
    }
   ],
   "source": [
    "a.view(3,3,2)"
   ]
  },
  {
   "cell_type": "code",
   "execution_count": 52,
   "id": "19e996a7-44ce-44cb-876f-c6612f2faa3d",
   "metadata": {},
   "outputs": [
    {
     "data": {
      "text/plain": [
       " 0\n",
       " 1\n",
       " 2\n",
       " 3\n",
       " 4\n",
       " 5\n",
       " 6\n",
       " 7\n",
       " 8\n",
       " 9\n",
       " 10\n",
       " 11\n",
       " 12\n",
       " 13\n",
       " 14\n",
       " 15\n",
       " 16\n",
       " 17\n",
       "[torch.storage._TypedStorage(dtype=torch.int64, device=cpu) of size 18]"
      ]
     },
     "execution_count": 52,
     "metadata": {},
     "output_type": "execute_result"
    }
   ],
   "source": [
    "a.storage()"
   ]
  },
  {
   "cell_type": "code",
   "execution_count": 53,
   "id": "f3fe2e7b-fbcc-41a9-bbb7-23b1d7afe696",
   "metadata": {},
   "outputs": [],
   "source": [
    "# Torch internals\n",
    "# http://blog.ezyang.com/2019/05/pytorch-internals/"
   ]
  },
  {
   "cell_type": "code",
   "execution_count": 54,
   "id": "2aaa5d81-3b90-4f15-bb01-07be96349281",
   "metadata": {},
   "outputs": [
    {
     "data": {
      "text/plain": [
       "torch.Size([32, 3, 2])"
      ]
     },
     "execution_count": 54,
     "metadata": {},
     "output_type": "execute_result"
    }
   ],
   "source": [
    "emb.shape"
   ]
  },
  {
   "cell_type": "code",
   "execution_count": 56,
   "id": "1d35e46b-c0a4-4efd-bdd4-6114c5f24ae7",
   "metadata": {},
   "outputs": [
    {
     "data": {
      "text/plain": [
       "tensor([[True, True, True, True, True, True],\n",
       "        [True, True, True, True, True, True],\n",
       "        [True, True, True, True, True, True],\n",
       "        [True, True, True, True, True, True],\n",
       "        [True, True, True, True, True, True],\n",
       "        [True, True, True, True, True, True],\n",
       "        [True, True, True, True, True, True],\n",
       "        [True, True, True, True, True, True],\n",
       "        [True, True, True, True, True, True],\n",
       "        [True, True, True, True, True, True],\n",
       "        [True, True, True, True, True, True],\n",
       "        [True, True, True, True, True, True],\n",
       "        [True, True, True, True, True, True],\n",
       "        [True, True, True, True, True, True],\n",
       "        [True, True, True, True, True, True],\n",
       "        [True, True, True, True, True, True],\n",
       "        [True, True, True, True, True, True],\n",
       "        [True, True, True, True, True, True],\n",
       "        [True, True, True, True, True, True],\n",
       "        [True, True, True, True, True, True],\n",
       "        [True, True, True, True, True, True],\n",
       "        [True, True, True, True, True, True],\n",
       "        [True, True, True, True, True, True],\n",
       "        [True, True, True, True, True, True],\n",
       "        [True, True, True, True, True, True],\n",
       "        [True, True, True, True, True, True],\n",
       "        [True, True, True, True, True, True],\n",
       "        [True, True, True, True, True, True],\n",
       "        [True, True, True, True, True, True],\n",
       "        [True, True, True, True, True, True],\n",
       "        [True, True, True, True, True, True],\n",
       "        [True, True, True, True, True, True]])"
      ]
     },
     "execution_count": 56,
     "metadata": {},
     "output_type": "execute_result"
    }
   ],
   "source": [
    "emb.view(32, 6) == torch.cat(torch.unbind(emb, 1), 1)"
   ]
  },
  {
   "cell_type": "code",
   "execution_count": 64,
   "id": "f96a0969-2a68-49aa-8db5-44d77c79dd49",
   "metadata": {},
   "outputs": [],
   "source": [
    "h = emb.view(emb.shape[0], 6) @ W1 + b1"
   ]
  },
  {
   "cell_type": "code",
   "execution_count": 66,
   "id": "1ce9e7d8-47a5-43bc-9a92-7395e7483b1e",
   "metadata": {},
   "outputs": [],
   "source": [
    "h = emb.view(-1, 6) @ W1 + b1"
   ]
  },
  {
   "cell_type": "code",
   "execution_count": 67,
   "id": "ec017a60-9972-47a0-80d4-ae2a4cdf7c2a",
   "metadata": {},
   "outputs": [
    {
     "data": {
      "text/plain": [
       "tensor([[ 0.0842,  1.1309, -0.8693,  ...,  3.2881, -1.0512,  3.2098],\n",
       "        [ 0.3949,  2.0796, -1.2689,  ...,  3.0494, -2.2660,  2.5082],\n",
       "        [ 0.2036,  4.1354,  0.7220,  ...,  1.1192, -0.2549,  2.8261],\n",
       "        ...,\n",
       "        [ 0.0947, -1.9497, -0.4401,  ..., -0.5220, -3.5794, -0.2892],\n",
       "        [-0.0675, -1.8012,  0.7406,  ...,  0.1686, -2.3943,  0.7406],\n",
       "        [-0.6003,  4.6922,  0.4530,  ..., -0.6830, -1.5457, -1.9942]])"
      ]
     },
     "execution_count": 67,
     "metadata": {},
     "output_type": "execute_result"
    }
   ],
   "source": [
    "h"
   ]
  },
  {
   "cell_type": "code",
   "execution_count": 69,
   "id": "595e8be6-3cb6-444c-bf3b-4c6f58768396",
   "metadata": {},
   "outputs": [],
   "source": [
    "h = torch.tanh(emb.view(-1, 6) @ W1 + b1)"
   ]
  },
  {
   "cell_type": "code",
   "execution_count": 70,
   "id": "8438fe9c-0f6e-4835-9436-46ace1e6c9ff",
   "metadata": {},
   "outputs": [
    {
     "data": {
      "text/plain": [
       "torch.Size([32, 100])"
      ]
     },
     "execution_count": 70,
     "metadata": {},
     "output_type": "execute_result"
    }
   ],
   "source": [
    "h.shape"
   ]
  },
  {
   "cell_type": "code",
   "execution_count": 71,
   "id": "0aee58fc-bdf8-4eea-b3f7-c17d11bfb52c",
   "metadata": {},
   "outputs": [],
   "source": [
    "# Initialize the second layer\n",
    "# Output size will be one neuron for each character\n",
    "W2 = torch.randn((100, 27))\n",
    "# Biases\n",
    "b2 = torch.randn(27)"
   ]
  },
  {
   "cell_type": "code",
   "execution_count": 72,
   "id": "898fb03b-1327-4131-8dde-e7f4272f27b4",
   "metadata": {},
   "outputs": [],
   "source": [
    "logits = h @ W2 + b2"
   ]
  },
  {
   "cell_type": "code",
   "execution_count": 73,
   "id": "16531437-e9df-492d-90e5-4279ef16280e",
   "metadata": {},
   "outputs": [
    {
     "data": {
      "text/plain": [
       "torch.Size([32, 27])"
      ]
     },
     "execution_count": 73,
     "metadata": {},
     "output_type": "execute_result"
    }
   ],
   "source": [
    "logits.shape"
   ]
  },
  {
   "cell_type": "code",
   "execution_count": 75,
   "id": "7dda72e4-4885-4a4f-b05a-751a6a71f465",
   "metadata": {},
   "outputs": [],
   "source": [
    "# Fake counts, by exponentiating logits\n",
    "counts = logits.exp()"
   ]
  },
  {
   "cell_type": "code",
   "execution_count": 84,
   "id": "4b0654ec-94ce-41ce-b9fd-e082f0ed9a49",
   "metadata": {},
   "outputs": [],
   "source": [
    "# Convert counts to probabilities, which are normalized\n",
    "probs = counts / counts.sum(1, keepdim=True)"
   ]
  },
  {
   "cell_type": "code",
   "execution_count": 86,
   "id": "7f8c0ee7-526c-4360-8689-98630197eb59",
   "metadata": {},
   "outputs": [
    {
     "data": {
      "text/plain": [
       "tensor(1.)"
      ]
     },
     "execution_count": 86,
     "metadata": {},
     "output_type": "execute_result"
    }
   ],
   "source": [
    "probs.shape\n",
    "probs[17].sum()"
   ]
  },
  {
   "cell_type": "code",
   "execution_count": 87,
   "id": "775c73dc-dc02-492a-ad1f-348ce58d2820",
   "metadata": {},
   "outputs": [
    {
     "data": {
      "text/plain": [
       "tensor([ 0,  1,  2,  3,  4,  5,  6,  7,  8,  9, 10, 11, 12, 13, 14, 15, 16, 17,\n",
       "        18, 19, 20, 21, 22, 23, 24, 25, 26, 27, 28, 29, 30, 31])"
      ]
     },
     "execution_count": 87,
     "metadata": {},
     "output_type": "execute_result"
    }
   ],
   "source": [
    "torch.arange(32)"
   ]
  },
  {
   "cell_type": "code",
   "execution_count": 90,
   "id": "b2ccd602-9bd7-4499-903e-c1b102e04c94",
   "metadata": {},
   "outputs": [
    {
     "data": {
      "text/plain": [
       "tensor([3.7611e-10, 1.0213e-05, 1.2976e-17, 1.1882e-10, 2.1123e-05, 1.1154e-07,\n",
       "        3.2407e-14, 6.3510e-11, 6.8268e-08, 1.9248e-06, 6.0751e-05, 1.6491e-14,\n",
       "        2.9054e-10, 1.5810e-14, 2.9874e-13, 9.0653e-06, 2.8386e-10, 5.5800e-14,\n",
       "        4.9734e-09, 6.2452e-14, 1.7245e-02, 2.4514e-03, 4.3575e-16, 8.2342e-04,\n",
       "        7.0004e-10, 5.3656e-08, 5.2053e-08, 6.9635e-09, 2.7417e-16, 6.6858e-06,\n",
       "        4.2500e-12, 7.7403e-09])"
      ]
     },
     "execution_count": 90,
     "metadata": {},
     "output_type": "execute_result"
    }
   ],
   "source": [
    "# Index into prob, in order to grab, from each row, the column given by Y\n",
    "# This gives the probabilities assigned by the neural network to each of the\n",
    "# characters in Y\n",
    "probs[torch.arange(32), Y]  "
   ]
  },
  {
   "cell_type": "code",
   "execution_count": 91,
   "id": "b79ab146-7705-4ab3-9287-69d459c44cca",
   "metadata": {},
   "outputs": [
    {
     "data": {
      "text/plain": [
       "tensor(20.6902)"
      ]
     },
     "execution_count": 91,
     "metadata": {},
     "output_type": "execute_result"
    }
   ],
   "source": [
    "# Compute the negative log likelihood loss\n",
    "loss = -probs[torch.arange(32), Y].log().mean()\n",
    "loss"
   ]
  },
  {
   "cell_type": "code",
   "execution_count": 92,
   "id": "e8f20aeb-b498-4853-a4fe-7b4129661675",
   "metadata": {},
   "outputs": [],
   "source": [
    "# --------------------- Now we make it respectable ---------------------"
   ]
  },
  {
   "cell_type": "code",
   "execution_count": 94,
   "id": "2832e7ea-9262-4b3b-917e-76c2215d5b10",
   "metadata": {},
   "outputs": [
    {
     "data": {
      "text/plain": [
       "(torch.Size([32, 3]), torch.Size([32]))"
      ]
     },
     "execution_count": 94,
     "metadata": {},
     "output_type": "execute_result"
    }
   ],
   "source": [
    "X.shape, Y.shape"
   ]
  },
  {
   "cell_type": "code",
   "execution_count": 95,
   "id": "dfcb7e0b-1afe-4333-b2b7-b2a7df8d97d9",
   "metadata": {},
   "outputs": [
    {
     "data": {
      "text/plain": [
       "'1.12.0'"
      ]
     },
     "execution_count": 95,
     "metadata": {},
     "output_type": "execute_result"
    }
   ],
   "source": [
    "torch.__version__"
   ]
  },
  {
   "cell_type": "code",
   "execution_count": 340,
   "id": "b040e611-7e7e-4a48-9091-9c1fb4bed1d5",
   "metadata": {},
   "outputs": [],
   "source": [
    "# Give a fixed seed for reproducibility\n",
    "g = torch.Generator().manual_seed(2147483647)\n",
    "# Build the lookup table for context sequences, which stores the embeddings\n",
    "C = torch.randn((27, 10), generator=g)\n",
    "# Initialize weights and biases for the first and the second layer\n",
    "W1 = torch.randn((30, 200), generator=g)\n",
    "b1 = torch.randn(200, generator=g)\n",
    "W2 = torch.randn((200, 27), generator=g)\n",
    "b2 = torch.randn(27, generator=g)\n",
    "# Gather all parameters in a single list\n",
    "parameters = [C, W1, b1, W2, b2]#"
   ]
  },
  {
   "cell_type": "code",
   "execution_count": 341,
   "id": "23dc630f-f63b-41fb-b986-e822bfeedf15",
   "metadata": {},
   "outputs": [
    {
     "data": {
      "text/plain": [
       "11897"
      ]
     },
     "execution_count": 341,
     "metadata": {},
     "output_type": "execute_result"
    }
   ],
   "source": [
    "# Compute number of parameters\n",
    "sum(p.nelement() for p in parameters)"
   ]
  },
  {
   "cell_type": "code",
   "execution_count": 107,
   "id": "d29793fb-dd19-4e5f-b375-2314c5278c06",
   "metadata": {},
   "outputs": [
    {
     "data": {
      "text/plain": [
       "tensor(17.7697)"
      ]
     },
     "execution_count": 107,
     "metadata": {},
     "output_type": "execute_result"
    }
   ],
   "source": [
    "# Create the embeddings encodings for all the inputs\n",
    "emb = C[X] # shape [32, 3, 2]\n",
    "# Apply first layer and tanh activation function\n",
    "h = torch.tanh(emb.view(-1, 6) @ W1 + b1) # 32, 100\n",
    "# Apply second layer\n",
    "logits = h @ W2 + b2\n",
    "# Give a softmax\n",
    "counts = logits.exp()\n",
    "# Normalize and convert to probabilities\n",
    "probs = counts / counts.sum(1, keepdims=True)\n",
    "# Compute the negative log likelihood loss of our predictions\n",
    "# We use the mean to gather all the values into 1 value\n",
    "loss = -probs[torch.arange(32), Y].log().mean()\n",
    "loss"
   ]
  },
  {
   "cell_type": "code",
   "execution_count": 110,
   "id": "1d14d7e8-3683-40c1-aebf-e6a967e4a50f",
   "metadata": {},
   "outputs": [
    {
     "data": {
      "text/plain": [
       "tensor(17.7697)"
      ]
     },
     "execution_count": 110,
     "metadata": {},
     "output_type": "execute_result"
    }
   ],
   "source": [
    "# Create the embeddings encodings for all the inputs\n",
    "emb = C[X] # shape [32, 3, 2]\n",
    "# Apply first layer and tanh activation function\n",
    "h = torch.tanh(emb.view(-1, 6) @ W1 + b1) # 32, 100\n",
    "# Apply second layer\n",
    "logits = h @ W2 + b2\n",
    "# Count, probs and loss lines above are equal to\n",
    "loss = F.cross_entropy(logits, Y)\n",
    "loss"
   ]
  },
  {
   "cell_type": "code",
   "execution_count": 112,
   "id": "a2eb7499-436e-49ed-91af-db567ce61d8b",
   "metadata": {},
   "outputs": [
    {
     "data": {
      "text/plain": [
       "tensor([0., 0., 0., nan])"
      ]
     },
     "execution_count": 112,
     "metadata": {},
     "output_type": "execute_result"
    }
   ],
   "source": [
    "# Why using torch cross entropy is better?\n",
    "logits = torch.tensor([-100, -3, 0, 100])\n",
    "counts = logits.exp()\n",
    "probs = counts / counts.sum()\n",
    "probs"
   ]
  },
  {
   "cell_type": "code",
   "execution_count": 115,
   "id": "cdd5d02e-1a74-4959-b166-ba72c883b35b",
   "metadata": {},
   "outputs": [
    {
     "data": {
      "text/plain": [
       "tensor([3.7835e-44, 4.9787e-02, 1.0000e+00,        inf])"
      ]
     },
     "execution_count": 115,
     "metadata": {},
     "output_type": "execute_result"
    }
   ],
   "source": [
    "# For very positive numbers, we run out of range in the floating point representation\n",
    "counts"
   ]
  },
  {
   "cell_type": "code",
   "execution_count": 124,
   "id": "abda6719-ea95-40af-b9aa-e69483aedad3",
   "metadata": {},
   "outputs": [
    {
     "data": {
      "text/plain": [
       "tensor([0., 0., 0., nan])"
      ]
     },
     "execution_count": 124,
     "metadata": {},
     "output_type": "execute_result"
    }
   ],
   "source": [
    "# The way PyTorch solves this is, it finds the biggest numbers and\n",
    "# substracts it for the entire tensor. This leaves the probabilities unchanged\n",
    "# Why using torch cross entropy is better?\n",
    "logits1 = torch.tensor([-100, -3, 0, 100])\n",
    "counts1 = logits1.exp()\n",
    "probs1 = counts1 / counts1.sum()\n",
    "probs1"
   ]
  },
  {
   "cell_type": "code",
   "execution_count": 125,
   "id": "e6454596-8601-43c4-9f72-9c9fc9eff602",
   "metadata": {},
   "outputs": [
    {
     "data": {
      "text/plain": [
       "tensor([0.0000e+00, 1.4013e-45, 3.7835e-44, 1.0000e+00])"
      ]
     },
     "execution_count": 125,
     "metadata": {},
     "output_type": "execute_result"
    }
   ],
   "source": [
    "# Why using torch cross entropy is better?\n",
    "logits2 = torch.tensor([-5, -3, 0, 100]) - 100\n",
    "counts2 = logits2.exp()\n",
    "probs2 = counts2 / counts2.sum()\n",
    "probs2"
   ]
  },
  {
   "cell_type": "code",
   "execution_count": 314,
   "id": "a57b47db-1e1d-4ea9-b8b7-8a3fdf0e894e",
   "metadata": {},
   "outputs": [],
   "source": [
    "for p in parameters:\n",
    "    p.requires_grad = True"
   ]
  },
  {
   "cell_type": "code",
   "execution_count": 242,
   "id": "6518b3fb-293f-4ed7-8a6e-fdc600c23f6c",
   "metadata": {},
   "outputs": [],
   "source": [
    "# Exponents of 0.001 and 1 (10**(-3)) and (10**0)\n",
    "lre = torch.linspace(-3, 0, 1000)\n",
    "lrs = 10**lre"
   ]
  },
  {
   "cell_type": "code",
   "execution_count": 315,
   "id": "81c6b61a-0881-4fca-8b07-f4c7ac3c62da",
   "metadata": {},
   "outputs": [],
   "source": [
    "# Initialize vectors that will keep track of what learning rates we used\n",
    "# and when\n",
    "lri = []\n",
    "lossi = []\n",
    "stepi = []"
   ]
  },
  {
   "cell_type": "code",
   "execution_count": 326,
   "id": "76aac27d-1b1a-44e6-82b4-37d613478ba9",
   "metadata": {},
   "outputs": [],
   "source": [
    "for i in range(50000):\n",
    "    # Minibatch construct\n",
    "    idx = torch.randint(0, Xtr.shape[0], (32,))\n",
    "    # Forward pass\n",
    "    # Create the embeddings encodings for all the inputs\n",
    "    emb = C[Xtr[idx]] # shape [32, 3, 2]\n",
    "    # Apply first layer and tanh activation function\n",
    "    h = torch.tanh(emb.view(-1, 30) @ W1 + b1) # 32, 100\n",
    "    # Apply second layer\n",
    "    logits = h @ W2 + b2\n",
    "    # Count, probs and loss lines above are equal to\n",
    "    loss = F.cross_entropy(logits, Ytr[idx])\n",
    "    \n",
    "    #print(loss.item())\n",
    "    # Backward pass\n",
    "    # Set the gradients to 0\n",
    "    for p in parameters:\n",
    "        p.grad = None\n",
    "    loss.backward()\n",
    "    \n",
    "    # Update\n",
    "    # Dynamically adjust the learning rate\n",
    "    #lr = lrs[i]\n",
    "    lr = 0.01\n",
    "    for p in parameters:\n",
    "        p.data += -lr * p.grad\n",
    "\n",
    "    # track stats\n",
    "    #lri.append(lre[i])\n",
    "    lossi.append(loss.log10().item())\n",
    "    stepi.append(i)\n",
    "    \n",
    "#print(loss.item())"
   ]
  },
  {
   "cell_type": "code",
   "execution_count": 327,
   "id": "ed3268b4-c0bd-48cd-8798-c76381a3f804",
   "metadata": {},
   "outputs": [
    {
     "data": {
      "text/plain": [
       "[<matplotlib.lines.Line2D at 0x1600c0700>]"
      ]
     },
     "execution_count": 327,
     "metadata": {},
     "output_type": "execute_result"
    },
    {
     "data": {
      "image/png": "[encoded data removed]",
      "text/plain": [
       "<Figure size 640x480 with 1 Axes>"
      ]
     },
     "metadata": {},
     "output_type": "display_data"
    }
   ],
   "source": [
    "plt.plot(stepi, lossi)"
   ]
  },
  {
   "cell_type": "code",
   "execution_count": 323,
   "id": "9a236c96-232b-4033-81af-1378e8034705",
   "metadata": {},
   "outputs": [
    {
     "data": {
      "text/plain": [
       "tensor(2.1698, grad_fn=<NllLossBackward0>)"
      ]
     },
     "execution_count": 323,
     "metadata": {},
     "output_type": "execute_result"
    }
   ],
   "source": [
    "# Evaluate the loss for the entire dataset after a minibatch multistep train\n",
    "emb = C[Xtr] # shape [32, 3, 2]\n",
    "h = torch.tanh(emb.view(-1, 30) @ W1 + b1) # 32, 100\n",
    "logits = h @ W2 + b2\n",
    "loss = F.cross_entropy(logits, Ytr)\n",
    "loss"
   ]
  },
  {
   "cell_type": "code",
   "execution_count": 324,
   "id": "ba5a48e1-ed20-478a-a902-02e34a544afa",
   "metadata": {},
   "outputs": [
    {
     "data": {
      "text/plain": [
       "tensor(2.2019, grad_fn=<NllLossBackward0>)"
      ]
     },
     "execution_count": 324,
     "metadata": {},
     "output_type": "execute_result"
    }
   ],
   "source": [
    "# Evaluate the loss for the entire dataset after a minibatch multistep train\n",
    "emb = C[Xdev] # shape [32, 3, 2]\n",
    "h = torch.tanh(emb.view(-1, 30) @ W1 + b1) # 32, 100\n",
    "logits = h @ W2 + b2\n",
    "loss = F.cross_entropy(logits, Ydev)\n",
    "loss"
   ]
  },
  {
   "cell_type": "code",
   "execution_count": 325,
   "id": "7a4393e1-c066-4d4b-9933-49539a15b131",
   "metadata": {},
   "outputs": [
    {
     "data": {
      "image/png": "[encoded data removed]",
      "text/plain": [
       "<Figure size 800x800 with 1 Axes>"
      ]
     },
     "metadata": {},
     "output_type": "display_data"
    }
   ],
   "source": [
    "# Visualize the embedding\n",
    "plt.figure(figsize=(8, 8))\n",
    "plt.scatter(C[:,0].data, C[:, 1].data, s=200)\n",
    "for i in range(C.shape[0]):\n",
    "    plt.text(C[i,0].item(), C[i,1].item(), itos[i], ha=\"center\", va=\"center\", color='white')\n",
    "plt.grid('minor')"
   ]
  },
  {
   "cell_type": "code",
   "execution_count": 166,
   "id": "d77641a8-eeea-4e1c-84a3-f176c7a6e6a1",
   "metadata": {},
   "outputs": [
    {
     "data": {
      "text/plain": [
       "torch.return_types.max(\n",
       "values=tensor([ 7.7196,  7.5937, 13.9204,  ...,  8.8380, 12.8418, 10.7132],\n",
       "       grad_fn=<MaxBackward0>),\n",
       "indices=tensor([ 1, 18,  9,  ..., 18, 11, 17]))"
      ]
     },
     "execution_count": 166,
     "metadata": {},
     "output_type": "execute_result"
    }
   ],
   "source": [
    "logits.max(1)"
   ]
  },
  {
   "cell_type": "code",
   "execution_count": 168,
   "id": "e0b3b335-dfb9-494f-a6ac-4739c6158d18",
   "metadata": {},
   "outputs": [
    {
     "data": {
      "text/plain": [
       "tensor([199417, 158397, 204951,  63112,   4729, 180092, 186627, 165316, 197436,\n",
       "         57609, 101771,  21705, 157852,  20979, 181318,    300, 158061,  92879,\n",
       "        144536, 165047, 187666,  66523,  20525, 170373, 154981,  91486,  27199,\n",
       "        198375, 140220,  43395, 166427,  17340])"
      ]
     },
     "execution_count": 168,
     "metadata": {},
     "output_type": "execute_result"
    }
   ],
   "source": [
    "# Use minibatches\n",
    "torch.randint(0, X.shape[0], (32,))"
   ]
  },
  {
   "cell_type": "code",
   "execution_count": 171,
   "id": "b87a30b5-a225-4f28-83ba-1609c1b90d1b",
   "metadata": {},
   "outputs": [],
   "source": [
    "# Is much more valuable and faster to have an aproximate gradient and\n",
    "# make more steps, than to have an exact gradient and take fewer steps"
   ]
  },
  {
   "cell_type": "code",
   "execution_count": null,
   "id": "8ef9ab74-8685-4f7f-9443-24d7afdf3b7a",
   "metadata": {},
   "outputs": [],
   "source": [
    "# Training split, dev/validation split, test split\n",
    "# 80%, 10%, 10%"
   ]
  },
  {
   "cell_type": "code",
   "execution_count": 399,
   "id": "1c1e0056-3d0a-4680-8d16-86d04e113e23",
   "metadata": {},
   "outputs": [],
   "source": [
    "# Give a fixed seed for reproducibility\n",
    "g = torch.Generator().manual_seed(2147483647)\n",
    "# Build the lookup table for context sequences, which stores the embeddings\n",
    "C = torch.randn((27, 10), generator=g)\n",
    "# Initialize weights and biases for the first and the second layer\n",
    "W1 = torch.randn((30, 250), generator=g) \n",
    "b1 = torch.randn(250, generator=g)\n",
    "W2 = torch.randn((250, 27), generator=g)\n",
    "b2 = torch.randn(27, generator=g)\n",
    "# Gather all parameters in a single list\n",
    "parameters = [C, W1, b1, W2, b2]#"
   ]
  },
  {
   "cell_type": "code",
   "execution_count": 400,
   "id": "44f753ba-146a-4ce3-9d0b-16a876b6c029",
   "metadata": {},
   "outputs": [
    {
     "data": {
      "text/plain": [
       "14797"
      ]
     },
     "execution_count": 400,
     "metadata": {},
     "output_type": "execute_result"
    }
   ],
   "source": [
    "# Compute number of parameters\n",
    "sum(p.nelement() for p in parameters)"
   ]
  },
  {
   "cell_type": "code",
   "execution_count": 401,
   "id": "9ac6e73a-ff0f-4df3-9b74-df5efa04e667",
   "metadata": {},
   "outputs": [],
   "source": [
    "# Initialize vectors that will keep track of what learning rates we used\n",
    "# and when\n",
    "lri = []\n",
    "lossi = []\n",
    "stepi = []"
   ]
  },
  {
   "cell_type": "code",
   "execution_count": 402,
   "id": "f7fa1da5-0560-43d5-abc5-b291a1ca4778",
   "metadata": {},
   "outputs": [],
   "source": [
    "for p in parameters:\n",
    "    p.requires_grad = True"
   ]
  },
  {
   "cell_type": "code",
   "execution_count": 403,
   "id": "7aa7544b-a11a-4c7d-88f1-6dcde6efde0a",
   "metadata": {},
   "outputs": [],
   "source": [
    "for i in range(200000):\n",
    "    # Minibatch construct\n",
    "    idx = torch.randint(0, Xtr.shape[0], (32,))\n",
    "    # Forward pass\n",
    "    # Create the embeddings encodings for all the inputs\n",
    "    emb = C[Xtr[idx]] # shape [32, 3, 2]\n",
    "    # Apply first layer and tanh activation function\n",
    "    h = torch.tanh(emb.view(-1, 30) @ W1 + b1) # 32, 100\n",
    "    # Apply second layer\n",
    "    logits = h @ W2 + b2\n",
    "    # Count, probs and loss lines above are equal to\n",
    "    loss = F.cross_entropy(logits, Ytr[idx])\n",
    "    \n",
    "    #print(loss.item())\n",
    "    # Backward pass\n",
    "    # Set the gradients to 0\n",
    "    for p in parameters:\n",
    "        p.grad = None\n",
    "    loss.backward()\n",
    "    \n",
    "    # Update\n",
    "    # Dynamically adjust the learning rate\n",
    "    #lr = lrs[i]\n",
    "    lr = 0.1 if i < 100000 else 0.01\n",
    "    for p in parameters:\n",
    "        p.data += -lr * p.grad\n",
    "\n",
    "    # track stats\n",
    "    #lri.append(lre[i])\n",
    "    lossi.append(loss.log10().item())\n",
    "    stepi.append(i)\n",
    "    \n",
    "#print(loss.item())"
   ]
  },
  {
   "cell_type": "code",
   "execution_count": 404,
   "id": "916ceb97-dc5f-461b-983a-2e3abc912822",
   "metadata": {},
   "outputs": [
    {
     "data": {
      "text/plain": [
       "tensor(2.1153, grad_fn=<NllLossBackward0>)"
      ]
     },
     "execution_count": 404,
     "metadata": {},
     "output_type": "execute_result"
    }
   ],
   "source": [
    "# Evaluate the loss for the entire dataset after a minibatch multistep train\n",
    "emb = C[Xtr] # shape [32, 3, 2]\n",
    "h = torch.tanh(emb.view(-1, 30) @ W1 + b1) # 32, 100\n",
    "logits = h @ W2 + b2\n",
    "loss = F.cross_entropy(logits, Ytr)\n",
    "loss"
   ]
  },
  {
   "cell_type": "code",
   "execution_count": 405,
   "id": "dcb9758e-2e69-4756-a24f-bb5f95cccf8e",
   "metadata": {},
   "outputs": [
    {
     "data": {
      "text/plain": [
       "tensor(2.1804, grad_fn=<NllLossBackward0>)"
      ]
     },
     "execution_count": 405,
     "metadata": {},
     "output_type": "execute_result"
    }
   ],
   "source": [
    "# Evaluate the loss for the entire dataset after a minibatch multistep train\n",
    "emb = C[Xdev] # shape [32, 3, 2]\n",
    "h = torch.tanh(emb.view(-1, 30) @ W1 + b1) # 32, 100\n",
    "logits = h @ W2 + b2\n",
    "loss = F.cross_entropy(logits, Ydev)\n",
    "loss"
   ]
  },
  {
   "cell_type": "code",
   "execution_count": 406,
   "id": "e95d81e6-7455-4849-afdb-b8041f2fa61b",
   "metadata": {},
   "outputs": [
    {
     "name": "stdout",
     "output_type": "stream",
     "text": [
      "carmaizaar.\n",
      "hari.\n",
      "kimri.\n",
      "reatlahnanden.\n",
      "jazonte.\n",
      "amerah.\n",
      "jareei.\n",
      "ner.\n",
      "kia.\n",
      "chaiir.\n",
      "kaleigh.\n",
      "ham.\n",
      "joce.\n",
      "quinn.\n",
      "shon.\n",
      "raiva.\n",
      "bia.\n",
      "jaelo.\n",
      "dearyn.\n",
      "kai.\n"
     ]
    }
   ],
   "source": [
    "# Sample from the model\n",
    "g = torch.Generator().manual_seed(2147483647 + 10)\n",
    "\n",
    "for _ in range(20):\n",
    "    out = []\n",
    "    context = [0] * block_size # initialize with all ...\n",
    "    while True:\n",
    "        emb = C[torch.tensor([context])] # (1, block_size, d)\n",
    "        #print(emb.shape)\n",
    "        #print(emb.view(1, -1).shape)\n",
    "        h = torch.tanh(emb.view(1, -1) @ W1 + b1)\n",
    "        logits = h @ W2 + b2\n",
    "        probs = F.softmax(logits, dim=1)\n",
    "        idx = torch.multinomial(probs, num_samples=1, generator=g).item()\n",
    "        context = context[1:] + [idx]\n",
    "        out.append(idx)\n",
    "        if idx == 0:\n",
    "            break\n",
    "    print(\"\".join([itos[i] for i in out]))"
   ]
  },
  {
   "cell_type": "code",
   "execution_count": null,
   "id": "b1e6ec43-3764-4afe-9a1c-021353f8eb60",
   "metadata": {},
   "outputs": [],
   "source": []
  }
 ],
 "metadata": {
  "kernelspec": {
   "display_name": "Python 3 (ipykernel)",
   "language": "python",
   "name": "python3"
  },
  "language_info": {
   "codemirror_mode": {
    "name": "ipython",
    "version": 3
   },
   "file_extension": ".py",
   "mimetype": "text/x-python",
   "name": "python",
   "nbconvert_exporter": "python",
   "pygments_lexer": "ipython3",
   "version": "3.9.6"
  }
 },
 "nbformat": 4,
 "nbformat_minor": 5
}
